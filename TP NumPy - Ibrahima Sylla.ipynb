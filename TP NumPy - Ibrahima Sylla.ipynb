{
 "cells": [
  {
   "cell_type": "markdown",
   "metadata": {},
   "source": [
    "### 1. Qu'est-ce que NumPy ? Comment l'installer ?\n",
    "Numpy est une bibliothèque du langage Python destinée à la manipulation de tableau multidimentionnels"
   ]
  },
  {
   "cell_type": "markdown",
   "metadata": {},
   "source": [
    "### 2. Qu'est-ce qu'un tableau (array) et en quoi diffère-t-il d'une liste ? Quel est le nom de la classe de tableau intégrée dans NumPy ?\n",
    "Un tableau est un regroupement de données de même type.\n",
    "\n",
    "La différence entre un tableau et une liste est qu'une liste peut comporter des éléments de types différents alors qu'un tableau ne peut contenir que des éléments de même type."
   ]
  },
  {
   "cell_type": "markdown",
   "metadata": {},
   "source": [
    "### 3. Créez les tableaux NumPy"
   ]
  },
  {
   "cell_type": "markdown",
   "metadata": {},
   "source": [
    "#### a. Un tableau 1-D appelé \"zeros\" ayant 10 éléments, tous les éléments étant définis à zéro."
   ]
  },
  {
   "cell_type": "code",
   "execution_count": 33,
   "metadata": {},
   "outputs": [
    {
     "name": "stdout",
     "output_type": "stream",
     "text": [
      "[0. 0. 0. 0. 0. 0. 0. 0. 0. 0.]\n"
     ]
    }
   ],
   "source": [
    "import numpy as np\n",
    "\n",
    "zeros = np.zeros(10)\n",
    "print(zeros)"
   ]
  },
  {
   "cell_type": "markdown",
   "metadata": {},
   "source": [
    "#### b. Un tableau 1-D appelé \"vowels\" ayant les éléments 'a', 'e', 'i', 'o' et 'u'."
   ]
  },
  {
   "cell_type": "code",
   "execution_count": 34,
   "metadata": {},
   "outputs": [
    {
     "name": "stdout",
     "output_type": "stream",
     "text": [
      "['a' 'e' 'i' 'o' 'u']\n"
     ]
    }
   ],
   "source": [
    "import numpy as np\n",
    "\n",
    "vowels = np.array(['a', 'e', 'i', 'o', 'u'])\n",
    "print(vowels)"
   ]
  },
  {
   "cell_type": "markdown",
   "metadata": {},
   "source": [
    "#### c. Un tableau 2-D appelé \"ones\" ayant 2 lignes et 5 colonnes, tous les éléments étant définis à 1 et le type de données (dtype) en int.\n"
   ]
  },
  {
   "cell_type": "code",
   "execution_count": 35,
   "metadata": {},
   "outputs": [
    {
     "name": "stdout",
     "output_type": "stream",
     "text": [
      "[[1 1 1 1 1]\n",
      " [1 1 1 1 1]]\n"
     ]
    }
   ],
   "source": [
    "import numpy as np\n",
    "\n",
    "ones = np.ones((2, 5), dtype=int)\n",
    "print(ones)"
   ]
  },
  {
   "cell_type": "markdown",
   "metadata": {},
   "source": [
    "#### d. Utilisez des listes Python imbriquées pour créer un tableau 2-D appelé \"myarray1\" ayant 3 lignes et 3 colonnes et stockez les données suivantes : 2.7, -2, -19 ; 0, 3.4, 99.9 ; 10.6, 0, 13\n"
   ]
  },
  {
   "cell_type": "code",
   "execution_count": 36,
   "metadata": {},
   "outputs": [
    {
     "name": "stdout",
     "output_type": "stream",
     "text": [
      "[[2.7, -2, -19], [0, 3.4, 99.9], [10.6, 0, 13]]\n"
     ]
    }
   ],
   "source": [
    "\n",
    "myarray1 = [\n",
    "    [2.7, -2, -19],\n",
    "    [0, 3.4, 99.9],\n",
    "    [10.6, 0, 13]\n",
    "]\n",
    "\n",
    "print(myarray1)"
   ]
  },
  {
   "cell_type": "markdown",
   "metadata": {},
   "source": [
    "#### e. Un tableau 2-D appelé \"myarray2\" en utilisant arange() ayant 3 lignes et 5 colonnes avec une valeur de départ de 4, un pas de 4 et le type de données en float"
   ]
  },
  {
   "cell_type": "code",
   "execution_count": 37,
   "metadata": {},
   "outputs": [
    {
     "name": "stdout",
     "output_type": "stream",
     "text": [
      "[[ 4.  8. 12. 16. 20.]\n",
      " [24. 28. 32. 36. 40.]\n",
      " [44. 48. 52. 56. 60.]]\n"
     ]
    }
   ],
   "source": [
    "import numpy as np\n",
    "\n",
    "myarray2 = np.arange(4, 64, 4, dtype=float).reshape((3, 5))\n",
    "print(myarray2)"
   ]
  },
  {
   "cell_type": "markdown",
   "metadata": {},
   "source": [
    "### 4. À l'aide des tableaux créés dans la question 3 ci-dessus, écrivez des commandes NumPy pour ce qui suit :"
   ]
  },
  {
   "cell_type": "markdown",
   "metadata": {},
   "source": [
    "#### a. Trouver les dimensions, la forme, la taille, le type de données des éléments et la taille des éléments des tableaux \"zeros\", \"vowels\", \"ones\", \"myarray1\" et \"myarray2\"."
   ]
  },
  {
   "cell_type": "code",
   "execution_count": 38,
   "metadata": {},
   "outputs": [
    {
     "name": "stdout",
     "output_type": "stream",
     "text": [
      "zeros:\n",
      "Dimensions: 1\n",
      "Forme: (10,)\n",
      "Taille: 10\n",
      "Type: float64\n",
      "Taille: 8\n",
      "\n",
      "vowels:\n",
      "Dimensions: 1\n",
      "Forme: (5,)\n",
      "Taille: 5\n",
      "Type: <U1\n",
      "Taille: 4\n",
      "\n",
      "ones:\n",
      "Dimensions: 2\n",
      "Forme: (2, 5)\n",
      "Taille: 10\n",
      "Type: int32\n",
      "Taille: 4\n",
      "\n",
      "myarray1:\n",
      "Dimensions: 2\n",
      "Forme: (3, 3)\n",
      "Taille: 9\n",
      "Type: float64\n",
      "Taille: 8\n",
      "\n",
      "myarray2:\n",
      "Dimensions: 2\n",
      "Forme: (3, 5)\n",
      "Taille: 15\n",
      "Type: float64\n",
      "Taille: 8\n"
     ]
    }
   ],
   "source": [
    "print(\"zeros:\")\n",
    "print(\"Dimensions:\", zeros.ndim)\n",
    "print(\"Forme:\", zeros.shape)\n",
    "print(\"Taille:\", zeros.size)\n",
    "print(\"Type:\", zeros.dtype)\n",
    "print(\"Taille:\", zeros.itemsize)\n",
    "\n",
    "print(\"\\nvowels:\")\n",
    "print(\"Dimensions:\", vowels.ndim)\n",
    "print(\"Forme:\", vowels.shape)\n",
    "print(\"Taille:\", vowels.size)\n",
    "print(\"Type:\", vowels.dtype)\n",
    "print(\"Taille:\", vowels.itemsize)\n",
    "\n",
    "print(\"\\nones:\")\n",
    "print(\"Dimensions:\", ones.ndim)\n",
    "print(\"Forme:\", ones.shape)\n",
    "print(\"Taille:\", ones.size)\n",
    "print(\"Type:\", ones.dtype)\n",
    "print(\"Taille:\", ones.itemsize)\n",
    "\n",
    "print(\"\\nmyarray1:\")\n",
    "myarray1 = np.array(myarray1)\n",
    "print(\"Dimensions:\", myarray1.ndim)\n",
    "print(\"Forme:\", myarray1.shape)\n",
    "print(\"Taille:\", myarray1.size)\n",
    "print(\"Type:\", myarray1.dtype)\n",
    "print(\"Taille:\", myarray1.itemsize)\n",
    "\n",
    "print(\"\\nmyarray2:\")\n",
    "print(\"Dimensions:\", myarray2.ndim)\n",
    "print(\"Forme:\", myarray2.shape)\n",
    "print(\"Taille:\", myarray2.size)\n",
    "print(\"Type:\", myarray2.dtype)\n",
    "print(\"Taille:\", myarray2.itemsize)"
   ]
  },
  {
   "cell_type": "markdown",
   "metadata": {},
   "source": [
    "#### b. Remodeler le tableau \"ones\" pour avoir les 10 éléments dans une seule ligne."
   ]
  },
  {
   "cell_type": "code",
   "execution_count": 39,
   "metadata": {},
   "outputs": [
    {
     "name": "stdout",
     "output_type": "stream",
     "text": [
      "[[1 1 1 1 1 1 1 1 1 1]]\n"
     ]
    }
   ],
   "source": [
    "ones = ones.reshape(1, 10)\n",
    "print(ones)"
   ]
  },
  {
   "cell_type": "markdown",
   "metadata": {},
   "source": [
    "#### c. Afficher le 2e et le 3e élément du tableau \"vowels\"."
   ]
  },
  {
   "cell_type": "code",
   "execution_count": 40,
   "metadata": {},
   "outputs": [
    {
     "name": "stdout",
     "output_type": "stream",
     "text": [
      "2eme élément : e\n",
      "3eme élément : i\n"
     ]
    }
   ],
   "source": [
    "print(\"2eme élément :\", vowels[1])\n",
    "print(\"3eme élément :\", vowels[2])"
   ]
  },
  {
   "cell_type": "markdown",
   "metadata": {},
   "source": [
    "#### d. Afficher tous les éléments de la 2e et 3e ligne du tableau \"myarray1\""
   ]
  },
  {
   "cell_type": "code",
   "execution_count": 41,
   "metadata": {},
   "outputs": [
    {
     "name": "stdout",
     "output_type": "stream",
     "text": [
      "2eme ligne : [ 0.   3.4 99.9]\n",
      "3eme ligne : [10.6  0.  13. ]\n"
     ]
    }
   ],
   "source": [
    "print(\"2eme ligne :\", myarray1[1, :])\n",
    "print(\"3eme ligne :\", myarray1[2, :])"
   ]
  },
  {
   "cell_type": "markdown",
   "metadata": {},
   "source": [
    "#### e. Afficher les éléments de la 1re et 2e colonne du tableau \"myarray1\"."
   ]
  },
  {
   "cell_type": "code",
   "execution_count": 42,
   "metadata": {},
   "outputs": [
    {
     "name": "stdout",
     "output_type": "stream",
     "text": [
      "1ere colonne : [ 2.7  0.  10.6]\n",
      "2eme colonne : [-2.   3.4  0. ]\n"
     ]
    }
   ],
   "source": [
    "print(\"1ere colonne :\", myarray1[:, 0])\n",
    "print(\"2eme colonne :\", myarray1[:, 1])"
   ]
  },
  {
   "cell_type": "markdown",
   "metadata": {},
   "source": [
    "#### f. Afficher les éléments de la 1re colonne de la 2e et 3e ligne du tableau \"myarray1\"."
   ]
  },
  {
   "cell_type": "code",
   "execution_count": 43,
   "metadata": {},
   "outputs": [
    {
     "name": "stdout",
     "output_type": "stream",
     "text": [
      "1ere colonne : [ 2.7  0.  10.6]\n",
      "2eme ligne : [-2.   3.4  0. ]\n",
      "3eme ligne : [-19.   99.9  13. ]\n"
     ]
    }
   ],
   "source": [
    "print(\"1ere colonne :\", myarray1[:, 0])\n",
    "print(\"2eme ligne :\", myarray1[:, 1])\n",
    "print(\"3eme ligne :\", myarray1[:, 2])"
   ]
  },
  {
   "cell_type": "markdown",
   "metadata": {},
   "source": [
    "#### g. Inverser le tableau des \"vowels\"."
   ]
  },
  {
   "cell_type": "code",
   "execution_count": 44,
   "metadata": {},
   "outputs": [
    {
     "name": "stdout",
     "output_type": "stream",
     "text": [
      "['u' 'o' 'i' 'e' 'a']\n"
     ]
    }
   ],
   "source": [
    "vowels = vowels[::-1]\n",
    "print(vowels)"
   ]
  },
  {
   "cell_type": "markdown",
   "metadata": {},
   "source": [
    "### 5. À l'aide des tableaux créés dans la question 4 ci-dessus, écrivez des commandes NumPy pour ce qui suit :"
   ]
  },
  {
   "cell_type": "markdown",
   "metadata": {},
   "source": [
    "#### a. Diviser tous les éléments du tableau \"ones\" par 3."
   ]
  },
  {
   "cell_type": "code",
   "execution_count": 45,
   "metadata": {},
   "outputs": [
    {
     "name": "stdout",
     "output_type": "stream",
     "text": [
      "[[0.33333333 0.33333333 0.33333333 0.33333333 0.33333333 0.33333333\n",
      "  0.33333333 0.33333333 0.33333333 0.33333333]]\n"
     ]
    }
   ],
   "source": [
    "result = ones / 3\n",
    "print(result)"
   ]
  },
  {
   "cell_type": "markdown",
   "metadata": {},
   "source": [
    "#### b. Additionner les tableaux \"myarray1\" et \"myarray2\"."
   ]
  },
  {
   "cell_type": "code",
   "execution_count": 46,
   "metadata": {},
   "outputs": [
    {
     "name": "stdout",
     "output_type": "stream",
     "text": [
      "[[  6.7   6.   -7. ]\n",
      " [ 16.   23.4 123.9]\n",
      " [ 38.6  32.   49. ]]\n"
     ]
    }
   ],
   "source": [
    "myarray2 = np.arange(4, 39, 4).reshape((3, 3))\n",
    "result = myarray1 + myarray2\n",
    "print(result)"
   ]
  },
  {
   "cell_type": "markdown",
   "metadata": {},
   "source": [
    "#### c. Soustraire \"myarray1\" de \"myarray2\" et stocker le résultat dans un nouveau tableau."
   ]
  },
  {
   "cell_type": "code",
   "execution_count": 47,
   "metadata": {},
   "outputs": [
    {
     "name": "stdout",
     "output_type": "stream",
     "text": [
      "[[  1.3  10.   31. ]\n",
      " [ 16.   16.6 -75.9]\n",
      " [ 17.4  32.   23. ]]\n"
     ]
    }
   ],
   "source": [
    "result = myarray2 - myarray1\n",
    "\n",
    "print(result)"
   ]
  },
  {
   "cell_type": "markdown",
   "metadata": {},
   "source": [
    "#### d. Multiplier élément par élément \"myarray1\" et \"myarray2\"."
   ]
  },
  {
   "cell_type": "code",
   "execution_count": 48,
   "metadata": {},
   "outputs": [
    {
     "name": "stdout",
     "output_type": "stream",
     "text": [
      "[[  10.8  -16.  -228. ]\n",
      " [   0.    68.  2397.6]\n",
      " [ 296.8    0.   468. ]]\n"
     ]
    }
   ],
   "source": [
    "result = myarray2 * myarray1\n",
    "\n",
    "print(result)"
   ]
  },
  {
   "cell_type": "markdown",
   "metadata": {},
   "source": [
    "#### e. Effectuer la multiplication matricielle de \"myarray1\" et \"myarray2\" et stocker le résultat dans un nouveau tableau \"myarray3\"."
   ]
  },
  {
   "cell_type": "code",
   "execution_count": 49,
   "metadata": {},
   "outputs": [
    {
     "name": "stdout",
     "output_type": "stream",
     "text": [
      "[[-553.2 -626.4 -699.6]\n",
      " [2851.6 3264.8 3678. ]\n",
      " [ 406.4  500.8  595.2]]\n"
     ]
    }
   ],
   "source": [
    "myarray3 = np.dot(myarray1, myarray2)  # ou myarray1 @ myarray2\n",
    "print(myarray3)"
   ]
  },
  {
   "cell_type": "markdown",
   "metadata": {},
   "source": [
    "#### f. Diviser \"myarray1\" par \"myarray2\"."
   ]
  },
  {
   "cell_type": "code",
   "execution_count": 50,
   "metadata": {},
   "outputs": [
    {
     "name": "stdout",
     "output_type": "stream",
     "text": [
      "[[ 0.675      -0.25       -1.58333333]\n",
      " [ 0.          0.17        4.1625    ]\n",
      " [ 0.37857143  0.          0.36111111]]\n"
     ]
    }
   ],
   "source": [
    "result = myarray1 / myarray2\n",
    "print(result)"
   ]
  },
  {
   "cell_type": "markdown",
   "metadata": {},
   "source": [
    "#### g. Trouver le cube de tous les éléments de \"myarray1\" et diviser le tableau résultant par 2."
   ]
  },
  {
   "cell_type": "code",
   "execution_count": 51,
   "metadata": {},
   "outputs": [
    {
     "name": "stdout",
     "output_type": "stream",
     "text": [
      "[[ 9.841500e+00 -4.000000e+00 -3.429500e+03]\n",
      " [ 0.000000e+00  1.965200e+01  4.985015e+05]\n",
      " [ 5.955080e+02  0.000000e+00  1.098500e+03]]\n"
     ]
    }
   ],
   "source": [
    "result = (myarray1 ** 3) / 2\n",
    "print(result)"
   ]
  },
  {
   "cell_type": "markdown",
   "metadata": {},
   "source": [
    "#### h. Trouver la racine carrée de tous les éléments de \"myarray2\" et diviser le tableau résultant par 2. Le résultat doit être arrondi à deux décimales."
   ]
  },
  {
   "cell_type": "code",
   "execution_count": 52,
   "metadata": {},
   "outputs": [
    {
     "name": "stdout",
     "output_type": "stream",
     "text": [
      "[[1.   1.41 1.73]\n",
      " [2.   2.24 2.45]\n",
      " [2.65 2.83 3.  ]]\n"
     ]
    }
   ],
   "source": [
    "result = np.round(np.sqrt(myarray2) / 2, decimals=2)\n",
    "print(result)"
   ]
  },
  {
   "cell_type": "markdown",
   "metadata": {},
   "source": [
    "### 6. À l'aide des tableaux créés dans la question 3 ci-dessus, écrivez des commandes NumPy pour ce qui suit :"
   ]
  },
  {
   "cell_type": "markdown",
   "metadata": {},
   "source": [
    "#### a. Trouver la transposée de \"ones\" et \"myarray2\"."
   ]
  },
  {
   "cell_type": "code",
   "execution_count": 53,
   "metadata": {},
   "outputs": [
    {
     "name": "stdout",
     "output_type": "stream",
     "text": [
      "transposée ones : [[1]\n",
      " [1]\n",
      " [1]\n",
      " [1]\n",
      " [1]\n",
      " [1]\n",
      " [1]\n",
      " [1]\n",
      " [1]\n",
      " [1]]\n",
      "transposée myarray2 : [[ 4 16 28]\n",
      " [ 8 20 32]\n",
      " [12 24 36]]\n"
     ]
    }
   ],
   "source": [
    "transposee_ones = np.transpose(ones)\n",
    "transposee_myarray2 = np.transpose(myarray2)\n",
    "print(\"transposée ones :\", transposee_ones)\n",
    "print(\"transposée myarray2 :\", transposee_myarray2)"
   ]
  },
  {
   "cell_type": "markdown",
   "metadata": {},
   "source": [
    "#### b. Trier le tableau \"vowels\" en ordre inverse."
   ]
  },
  {
   "cell_type": "code",
   "execution_count": 54,
   "metadata": {},
   "outputs": [
    {
     "name": "stdout",
     "output_type": "stream",
     "text": [
      "['u' 'o' 'i' 'e' 'a']\n"
     ]
    }
   ],
   "source": [
    "ordre_inverse_trie = np.sort(vowels, kind='mergesort')[::-1]\n",
    "print(ordre_inverse_trie)"
   ]
  },
  {
   "cell_type": "markdown",
   "metadata": {},
   "source": [
    "#### c. Trier le tableau \"myarray1\" de manière à placer la plus petite valeur de la colonne dans la première ligne, et ainsi de suite."
   ]
  },
  {
   "cell_type": "code",
   "execution_count": 55,
   "metadata": {},
   "outputs": [
    {
     "name": "stdout",
     "output_type": "stream",
     "text": [
      "[[  0.   -2.  -19. ]\n",
      " [  2.7   0.   13. ]\n",
      " [ 10.6   3.4  99.9]]\n"
     ]
    }
   ],
   "source": [
    "tri_indices = np.argsort(myarray1, axis=0)\n",
    "myarray1_trie = myarray1[tri_indices, np.arange(myarray1.shape[1])]\n",
    "print(myarray1_trie)"
   ]
  },
  {
   "cell_type": "markdown",
   "metadata": {},
   "source": [
    "### 7. À l'aide des tableaux créés dans la question 4 ci-dessus, écrivez des commandes NumPy pour ce qui suit :"
   ]
  },
  {
   "cell_type": "markdown",
   "metadata": {},
   "source": [
    "#### a. Utilisez numpy.split() pour diviser le tableau \"myarray2\" en 5 tableaux. Stockez vos tableaux résultants dans \"myarray2A\", \"myarray2B\", \"myarray2C\", \"myarray2D\" et \"myarray2E\". Imprimez les tableaux \"myarray2A\", \"myarray2B\", \"myarray2C\", \"myarray2D\" et \"myarray2E\"."
   ]
  },
  {
   "cell_type": "code",
   "execution_count": 56,
   "metadata": {},
   "outputs": [
    {
     "name": "stdout",
     "output_type": "stream",
     "text": [
      "myarray2A :\n",
      "[[ 4.  8. 12.]]\n",
      "\n",
      "myarray2B :\n",
      "[[16. 20. 24.]]\n",
      "\n",
      "myarray2C :\n",
      "[[28. 32. 36.]]\n",
      "\n",
      "myarray2D :\n",
      "[[40. 44. 48.]]\n",
      "\n",
      "myarray2E :\n",
      "[[52. 56. 60.]]\n"
     ]
    }
   ],
   "source": [
    "myarray2 = np.arange(4, 64, 4, dtype=float).reshape((5, 3))\n",
    "myarray2A, myarray2B, myarray2C, myarray2D, myarray2E = np.split(myarray2, 5)\n",
    "print(\"myarray2A :\")\n",
    "print(myarray2A)\n",
    "print(\"\\nmyarray2B :\")\n",
    "print(myarray2B)\n",
    "print(\"\\nmyarray2C :\")\n",
    "print(myarray2C)\n",
    "print(\"\\nmyarray2D :\")\n",
    "print(myarray2D)\n",
    "print(\"\\nmyarray2E :\")\n",
    "print(myarray2E)"
   ]
  },
  {
   "cell_type": "markdown",
   "metadata": {},
   "source": [
    "#### b. Divisez le tableau \"zeros\" aux indices 2, 5, 7, 8 et stockez les tableaux résultants dans \"zerosA\", \"zerosB\", \"zerosC\" et \"zerosD\". Imprimez-les."
   ]
  },
  {
   "cell_type": "code",
   "execution_count": 57,
   "metadata": {},
   "outputs": [
    {
     "name": "stdout",
     "output_type": "stream",
     "text": [
      "zerosA : [0. 0. 0.]\n",
      "zerosB : [0. 0.]\n",
      "zerosC : [0.]\n",
      "zerosD : [0. 0.]\n"
     ]
    }
   ],
   "source": [
    "indices = [2, 5, 7, 8]\n",
    "zerosA, zerosB, zerosC, zerosD = np.split(zeros, indices)[1::]\n",
    "\n",
    "print(\"zerosA :\", zerosA)\n",
    "print(\"zerosB :\", zerosB)\n",
    "print(\"zerosC :\", zerosC)\n",
    "print(\"zerosD :\", zerosD)"
   ]
  },
  {
   "cell_type": "markdown",
   "metadata": {},
   "source": [
    "#### c. Concaténer les tableaux \"myarray2A\", \"myarray2B\" et \"myarray2C\" en un tableau ayant 3 lignes et 3 colonnes."
   ]
  },
  {
   "cell_type": "code",
   "execution_count": 58,
   "metadata": {},
   "outputs": [
    {
     "name": "stdout",
     "output_type": "stream",
     "text": [
      "[[ 4.  8. 12.]\n",
      " [16. 20. 24.]\n",
      " [28. 32. 36.]]\n"
     ]
    }
   ],
   "source": [
    "result = np.concatenate((myarray2A, myarray2B, myarray2C))\n",
    "print(result)"
   ]
  },
  {
   "cell_type": "markdown",
   "metadata": {},
   "source": [
    "### 8. Créez un tableau 2-D appelé \"myarray4\" en utilisant arange() ayant 14 lignes et 3 colonnes avec une valeur de départ de -1, un pas de 0.25. Divisez ce tableau en 3 parties égales et imprimez le résultat."
   ]
  },
  {
   "cell_type": "code",
   "execution_count": 59,
   "metadata": {},
   "outputs": [
    {
     "name": "stdout",
     "output_type": "stream",
     "text": [
      "[[-1.   -0.75 -0.5 ]\n",
      " [-0.25  0.    0.25]\n",
      " [ 0.5   0.75  1.  ]\n",
      " [ 1.25  1.5   1.75]\n",
      " [ 2.    2.25  2.5 ]]\n",
      "\n",
      "[[2.75 3.   3.25]\n",
      " [3.5  3.75 4.  ]\n",
      " [4.25 4.5  4.75]\n",
      " [5.   5.25 5.5 ]\n",
      " [5.75 6.   6.25]]\n",
      "\n",
      "[[6.5  6.75 7.  ]\n",
      " [7.25 7.5  7.75]\n",
      " [8.   8.25 8.5 ]\n",
      " [8.75 9.   9.25]]\n",
      "\n"
     ]
    }
   ],
   "source": [
    "myarray4 = np.arange(-1, 9.5, 0.25).reshape((14, 3))\n",
    "result = np.array_split(myarray4, 3)\n",
    "\n",
    "for i, part in enumerate(result, 1):\n",
    "    print(f\"{part}\\n\")"
   ]
  },
  {
   "cell_type": "markdown",
   "metadata": {},
   "source": [
    "### 9. À l'aide du \"myarray4\" créé dans les questions précédentes, écrivez des commandes pour ce qui suit :"
   ]
  },
  {
   "cell_type": "markdown",
   "metadata": {},
   "source": [
    "#### a. Trouver la somme de tous les éléments."
   ]
  },
  {
   "cell_type": "code",
   "execution_count": 60,
   "metadata": {},
   "outputs": [
    {
     "name": "stdout",
     "output_type": "stream",
     "text": [
      "173.25\n"
     ]
    }
   ],
   "source": [
    "result = np.sum(myarray4)\n",
    "print(result)"
   ]
  },
  {
   "cell_type": "markdown",
   "metadata": {},
   "source": [
    "#### b. Trouver la somme de tous les éléments par ligne."
   ]
  },
  {
   "cell_type": "code",
   "execution_count": 61,
   "metadata": {},
   "outputs": [
    {
     "name": "stdout",
     "output_type": "stream",
     "text": [
      "[-2.25  0.    2.25  4.5   6.75  9.   11.25 13.5  15.75 18.   20.25 22.5\n",
      " 24.75 27.  ]\n"
     ]
    }
   ],
   "source": [
    "result = np.sum(myarray4, axis=1)\n",
    "print(result)"
   ]
  }
 ],
 "metadata": {
  "kernelspec": {
   "display_name": "base",
   "language": "python",
   "name": "python3"
  },
  "language_info": {
   "codemirror_mode": {
    "name": "ipython",
    "version": 3
   },
   "file_extension": ".py",
   "mimetype": "text/x-python",
   "name": "python",
   "nbconvert_exporter": "python",
   "pygments_lexer": "ipython3",
   "version": "3.11.5"
  }
 },
 "nbformat": 4,
 "nbformat_minor": 2
}
